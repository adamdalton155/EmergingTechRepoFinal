{
 "cells": [
  {
   "cell_type": "markdown",
   "id": "c8eee224",
   "metadata": {},
   "source": [
    "<font color=blue><h1>Computation</h1>"
   ]
  },
  {
   "cell_type": "markdown",
   "id": "959ce63e",
   "metadata": {},
   "source": [
    "<font color=blue><h3>What is a Computational Problem?</h3>\n",
    "\n",
    "To start, a Computational Problem in Computer Science is a problem that can be solved by using an algorithm, more specifically, the problem can be viewed as a set of instances with possibly an empty set of solutions for every instance. The objective of Computational Problem's is to determine the amount of resources or computational complexity that is required to solve a problem and may even explain why it cannot be solved, at least for now with classic computers.\n",
    "    \n",
    "A common problem that is yet to be solved is matrix multiplication. The reason this is such an important problem is that matrix multiplication is used in many aspects of ourlives, even in ways we do not see. Examples of this is generating graphics in video games and recognising speech commands and with Video Games being the biggest industry for entertainment and most devices connected to the internet have some version of a voice assistant is proof of the importance of matrix multiplication.\n",
    "    \n",
    "So what exactly is the problem? It is how quickly can a computer solve the operation of multiplying a matrix. It is one of the simpilest forms of mathematics, taught at second level education in Ireland but in the digital world is where it gets more complex and to make matters that bit worse, the problem isn't that well understood and so, currently there isn't a known better way of solving the problem. Here is an example of a matrix."
   ]
  },
  {
   "cell_type": "code",
   "execution_count": 1,
   "id": "d6c062b4",
   "metadata": {},
   "outputs": [
    {
     "name": "stdout",
     "output_type": "stream",
     "text": [
      "[[1 2 3]\n",
      " [3 4 5]]\n"
     ]
    }
   ],
   "source": [
    "#This is a package we would have seen in Topic Two\n",
    "import numpy as np\n",
    "#Creates Array A to use as a Matrix as Python doesn't\n",
    "#have a built in type for Matricies\n",
    "A = np.array([[1, 2, 3], [3, 4, 5]])\n",
    "#Print out the contents of Array A\n",
    "print(A)"
   ]
  },
  {
   "cell_type": "markdown",
   "id": "d364bd65",
   "metadata": {},
   "source": [
    "<font color=blue><h3>The Algorithms for multiplying Matricies</h3>"
   ]
  },
  {
   "cell_type": "markdown",
   "id": "00c5f085",
   "metadata": {},
   "source": [
    "To start, by applying the definition of multiplying a matrix gives an algorithm that takes time on the order of n^3 field operations to multiply two n x n matricies over that field  (Θ(n3) in big O notation). First published in the end of the 1960's, 'Strassen's algorithm' (named after Volker Strassen) was introduced. This algorithm can solve Matrix multiplications faster than the standard matrix multiplication algorithm for larger matricies with a better asymptotic complexity (this is an indicator of performance and shows an algorithms limitations) but is slower by todays standards even though not many breakthroughs have happened. Until 2022, the next best algorithm for solving matricies was the 'matrix multiplication algorithm', designed by Josh Alman and Virginia Vassilevska Williams. The reason for this was the algorithms asymptotic complexity that runs in  O(n2.3728596) time but is considered a 'galactic algorithm' but we will get into that more later in the notebook.\n",
    "\n",
    "In 2022, DeepMind an Artificial Intelligence subsidiary of a British company name Alphabet Inc. introduced AlphaTensor. Why this is worth talking about is because this is the biggest breakthrough in multiplying two matrices in about fifty years. How DeepMind went about making this breakthrough was by turning the problem into a single-player 3-D board game with the name 'TensorGame'. The board represents the multiplication problem itself and each move that the player makes in the game is the next step in solving the problem. Each move results in the algorithm. AlphaTensor learns what is the best step to make when multiplying matrices by using machine learning. \n",
    "\n",
    "In a quote from DeepMind's website, they said “AlphaTensor discovered algorithms that are more efficient than state-of-the-art for many matrix sizes. Our AI-designed algorithms outperform human-designed ones, which is a major step forward in the field of algorithmic discovery”. \n",
    "\n",
    "A notable acomplishment the AI has made is that it figured out how to multiply two 4 x 4 matrices with 47 multiplications rather than 64 by multiplying each row by each column seen in the matrix multiplication algorithm. Even futher, it takes two less steps tham Strassen's algorithm (49 steps) to complete which is why it is possibly the biggest breakthrough in around fifty years. "
   ]
  },
  {
   "cell_type": "code",
   "execution_count": null,
   "id": "49b1798b",
   "metadata": {},
   "outputs": [],
   "source": []
  }
 ],
 "metadata": {
  "kernelspec": {
   "display_name": "Python 3 (ipykernel)",
   "language": "python",
   "name": "python3"
  },
  "language_info": {
   "codemirror_mode": {
    "name": "ipython",
    "version": 3
   },
   "file_extension": ".py",
   "mimetype": "text/x-python",
   "name": "python",
   "nbconvert_exporter": "python",
   "pygments_lexer": "ipython3",
   "version": "3.9.15"
  }
 },
 "nbformat": 4,
 "nbformat_minor": 5
}
