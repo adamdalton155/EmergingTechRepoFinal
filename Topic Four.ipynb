{
 "cells": [
  {
   "cell_type": "markdown",
   "id": "347d6b38",
   "metadata": {},
   "source": [
    "<font color=blue><h1>The Fourier Transform</h1>"
   ]
  },
  {
   "cell_type": "markdown",
   "id": "f46ec60a",
   "metadata": {},
   "source": [
    "<font color=blue><h3>What is The Fourier Transform?</h3>"
   ]
  },
  {
   "cell_type": "markdown",
   "id": "f39ed147",
   "metadata": {},
   "source": [
    "The Fourier Transform is a mathematical technique that allows us to take a time based pattern as an input and then can determine the rotation speed, cycle effect and strength. It's applied to waveforms, which decomposes it to a sinusoid and thus provides another way to represent a waveform. Nearly everything can be described by a waveform, a function of time or space for example. A further example of this is a sound wave. A sound wave is the pattern of disturbance caused by the movement of energy traveling and this can be represented using a Fourier Transform, which is pretty cool. The formala that represents Fourier Transform can be represented in many ways (mainly depending on what convention is being used) but it can be summarised in this formula. "
   ]
  },
  {
   "cell_type": "markdown",
   "id": "caa33506",
   "metadata": {},
   "source": []
  }
 ],
 "metadata": {
  "kernelspec": {
   "display_name": "Python 3 (ipykernel)",
   "language": "python",
   "name": "python3"
  },
  "language_info": {
   "codemirror_mode": {
    "name": "ipython",
    "version": 3
   },
   "file_extension": ".py",
   "mimetype": "text/x-python",
   "name": "python",
   "nbconvert_exporter": "python",
   "pygments_lexer": "ipython3",
   "version": "3.9.15"
  }
 },
 "nbformat": 4,
 "nbformat_minor": 5
}
