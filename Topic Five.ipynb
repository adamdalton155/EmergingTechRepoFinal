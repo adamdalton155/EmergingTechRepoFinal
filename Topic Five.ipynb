{
 "cells": [
  {
   "cell_type": "markdown",
   "id": "0374e77b",
   "metadata": {},
   "source": [
    "<font color=blue><h1>QisKit and Quantum Computing</h1>\n",
    "<hr>"
   ]
  },
  {
   "cell_type": "markdown",
   "id": "c6b9583e",
   "metadata": {},
   "source": [
    "<font color=blue><h1>QisKit's Importance</h1>\n",
    "<hr>"
   ]
  },
  {
   "cell_type": "markdown",
   "id": "81fe8b27",
   "metadata": {},
   "source": [
    "QisKit, described by the IBM, the makers, is an open source SDK for working with quantim computers at the level of pulses, circuts and application modules. There are two ways you can get started with QisKit. The first being locally and the other is hosting it Jupyter Notebooks. It is worth mentioning that IBM says running QisKit locally is more secure and private. Running QisKit locally requires Python 3.7 (released June 27th 2018) or higher. From the Terminal or Command Prompt, just run the command 'pip install qiskit' and all the requirments will be installed.\n",
    "\n",
    "QisKit includes a vast set of quantum gates and pre-built circuts so users of any level can use QisKit in their own research and development of their applications. Users can run and schdule jobs on quantum processors and employ QisKit runtime to orchestrate programs on cloud-based Central Processing Units(CPUs), Graphic Processing Units (GPUs) and Quantum Processing Units (QPUs). By IBM devloping QisKit and these features, IBM/QisKit have managed to unify three different levels of users\n",
    "<ol>\n",
    "    <li>High level experts in their field such as chemistry or finance</li>\n",
    "    <li>Devlopers with limited knowledge of quantum circuts who would like to see the power of Quantum Computing as opposed to classical computers</li>\n",
    "    <li>Experts in the field of Quantum Mechanics</li>\n",
    "</ol>\n",
    "\n",
    "What makes QisKit such a ground breaking piece of software is its ability to provide anyone outside of IBM's Q lab the chance to program a Quantum Computer. It can be used as pathway for people to learn about Quantum Computing/Mechanics. On IBM's website they say \"we hope to also foster a community that can discover new methods and breakthrough applications\". The issue halting a true breakthrough for Quantum Computing is one of a hardware issue. The hardware and rescources that are available in 2022 just simply cannot offer the computational power to compute what Quantum Computing can offer as of now. Examples of this is solving Integer Factorization in polynomial time. Integer Factorization simply put is the ability to find the least common multiples or LCM for short. As of now, Integer Factorization is only solvable in exponential time.\n",
    "\n",
    "The limitations of Quantum Computing comes down to a few different factors. Some examples of these limitations are, Quantum Computers are incredibly difficult to build, and program. This results in crippling errors in the form of noise, faults and loss of quantum coherence. This causes the operation the computer is attempting to run to fall apart before it has completed. What causes the loss of coherence (also known as decoherence) is caused multiple factors such as vibrations, temperature fluctuations, electromagnetic waves and various other interactions with its outside enviroment and results in the destruction of the exotic quantum properties of the computer. If any of these external factors effect the computer, the answer that is returned is likely to be incorrect.\n",
    "\n",
    "Another factor holding back the development of Quantum Computing is, as mentioned above is the hardware aspect. The most advanced Quantum Computers that are around today have around 72 qubits. What is then needed to achieve what we would like for Quantum Computing is in the range of thousands to millions of qubits. Right now, there simply isn't enough room on chips to faciliate this."
   ]
  },
  {
   "cell_type": "markdown",
   "id": "6012f2dd",
   "metadata": {},
   "source": [
    "<font color=blue><h1>What can Quantum Computing do</h1>\n",
    "<hr>"
   ]
  },
  {
   "cell_type": "markdown",
   "id": "77bc7ec5",
   "metadata": {},
   "source": [
    "Quantum Computing, which are programmed using Quantum Circuts, really do have the potential to revolutionize the world. A report by Gartner states that by 2023 (which is so close as of writing this notebook) 20% of organizations will be budgeting for Quantum Computing projects. Quantum Computers work differently to classical computers. The computers we know and use today work on a binary 0 and 1 system whereas Quantum Computers can be both 0 and 1 which opens up countless possibilities. To store information, instead of using bits, Quantum Computers use qubits. This is starting to become such a huge deal that countries are beginning to invest. Germany plans to invest over €2 Billion over the next five years and France plans to invest €1.8 Billion. Google claims it has achieved Quantum Suprremacy in 2019 and along with IBM, AWS and Microsoft have also announced cloud based Quantum Computing.\n",
    "\n",
    "The reason for all of this investment is that Quantum Computers can and will be able to perform arithmetic calculations at a greatly increased speed, in fact it will be able to perform these operations in ways computers will have today could never. This can also result in reducing costs to businesses. But then how is this all applied to in real world services? To start, cyber-security will completely change. The World Economic Forum has stated that \"quantum computing could make today’s cybersecurity obsolete\". The modern cryptography used for asymmetric encryption would be now solved in polynomial time as opposed to exponential time."
   ]
  },
  {
   "cell_type": "markdown",
   "id": "79088d26",
   "metadata": {},
   "source": []
  }
 ],
 "metadata": {
  "kernelspec": {
   "display_name": "Python 3 (ipykernel)",
   "language": "python",
   "name": "python3"
  },
  "language_info": {
   "codemirror_mode": {
    "name": "ipython",
    "version": 3
   },
   "file_extension": ".py",
   "mimetype": "text/x-python",
   "name": "python",
   "nbconvert_exporter": "python",
   "pygments_lexer": "ipython3",
   "version": "3.9.15"
  }
 },
 "nbformat": 4,
 "nbformat_minor": 5
}
