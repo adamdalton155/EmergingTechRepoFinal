{
 "cells": [
  {
   "cell_type": "markdown",
   "id": "c064f23e",
   "metadata": {},
   "source": [
    "<font color=blue><h1>Computation</h1>"
   ]
  },
  {
   "cell_type": "markdown",
   "id": "3aa5b3d4",
   "metadata": {},
   "source": [
    "<font color=blue><h3>What is a Computational Problem?</h3>\n",
    "\n",
    "To start, a Computational Problem in Computer Science is a problem that can be solved by using an algorithm, more specifically, the problem can be viewed as a set of instances with possibly an empty set of solutions for every instance. The objective of Computational Problem's is to determine the amount of resources or computational complexity that is required to solve a problem and may even explain why it cannot be solved, at least for now with classic computers.\n",
    "    \n",
    "A common problem that is yet to be solved is matrix multiplication. The reason this is such an important problem is that matrix multiplication is used in many aspects of ourlives, even in ways we do not see. Examples of this is generating graphics in video games and recognising speech commands and with Video Games being the biggest industry for entertainment and most devices connected to the internet have some version of a voice assistant is proof of the importance of matrix multiplication."
   ]
  }
 ],
 "metadata": {
  "kernelspec": {
   "display_name": "Python 3 (ipykernel)",
   "language": "python",
   "name": "python3"
  },
  "language_info": {
   "codemirror_mode": {
    "name": "ipython",
    "version": 3
   },
   "file_extension": ".py",
   "mimetype": "text/x-python",
   "name": "python",
   "nbconvert_exporter": "python",
   "pygments_lexer": "ipython3",
   "version": "3.9.15"
  }
 },
 "nbformat": 4,
 "nbformat_minor": 5
}
