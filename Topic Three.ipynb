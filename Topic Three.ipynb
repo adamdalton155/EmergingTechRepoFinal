{
 "cells": [
  {
   "cell_type": "markdown",
   "id": "e2965ddc",
   "metadata": {},
   "source": [
    "<font color=blue><h1>Computation</h1>"
   ]
  },
  {
   "cell_type": "markdown",
   "id": "18fe23bb",
   "metadata": {},
   "source": [
    "<font color=blue><h3>What is a Computational Problem?</h3>\n",
    "\n",
    "To start, a Computational Problem in Computer Science is a problem that can be solved by using an algorithm, more specifically, the problem can be viewed as a set of instances with possibly an empty set of solutions for every instance. The objective of Computational Problem's is to determine the amount of resources or computational complexity that is required to solve a problem and may even explain why it cannot be solved, at least for now with classic computers.\n",
    "    \n",
    "A common problem that is yet to be solved is matrix multiplication. The reason this is such an important problem is that matrix multiplication is used in many aspects of ourlives, even in ways we do not see. Examples of this is generating graphics in video games and recognising speech commands and with Video Games being the biggest industry for entertainment and most devices connected to the internet have some version of a voice assistant is proof of the importance of matrix multiplication.\n",
    "    \n",
    "So what exactly is the problem? It is how quickly can a computer solve the operation of multiplying a matrix. It is one of the simpilest forms of mathematics, taught at second level education in Ireland but in the digital world is where it gets more complex and to make matters that bit worse, the problem isn't that well understood and so, currently there isn't a known better way of solving the problem. Here is an example of a matrix."
   ]
  },
  {
   "cell_type": "code",
   "execution_count": 1,
   "id": "4331d12a",
   "metadata": {},
   "outputs": [
    {
     "name": "stdout",
     "output_type": "stream",
     "text": [
      "[[1 2 3]\n",
      " [3 4 5]]\n"
     ]
    }
   ],
   "source": [
    "#This is a package we would have seen in Topic Two\n",
    "import numpy as np\n",
    "#Creates Array A to use as a Matrix as Python doesn't\n",
    "#have a built in type for Matricies\n",
    "A = np.array([[1, 2, 3], [3, 4, 5]])\n",
    "#Print out the contents of Array A\n",
    "print(A)"
   ]
  },
  {
   "cell_type": "markdown",
   "id": "c55b8d39",
   "metadata": {},
   "source": [
    "<font color=blue><h3>The Algorithms for multiplying Matricies</h3>"
   ]
  },
  {
   "cell_type": "markdown",
   "id": "03b9984b",
   "metadata": {},
   "source": [
    "To start, by applying the definition of multiplying a matrix gives an algorithm that takes time on the order of n^3 field operations to multiply two n x n matricies over that field  (Θ(n3) in big O notation). First published in the end of the 1960's, 'Strassen's algorithm' (named after Volker Strassen) was introduced. This algorithm can solve Matrix multiplications faster than the standard matrix multiplication algorithm for larger matricies with a better asymptotic complexity (this is an indicator of performance and shows an algorithms limitations) but is slower by todays standards even though not many breakthroughs have happened. Until 2022, the next best algorithm for solving matricies was the 'matrix multiplication algorithm', designed by Josh Alman and Virginia Vassilevska Williams. The reason for this was the algorithms asymptotic complexity that runs in  O(n2.3728596) time but is considered a 'galactic algorithm' but we will get into that more later in the notebook.\n",
    "\n",
    "In 2022, DeepMind an Artificial Intelligence subsidiary of a British company name Alphabet Inc. introduced AlphaTensor. Why this is worth talking about is because this is the biggest breakthrough in multiplying two matrices in about fifty years. How DeepMind went about making this breakthrough was by turning the problem into a single-player 3-D board game with the name 'TensorGame'. The board represents the multiplication problem itself and each move that the player makes in the game is the next step in solving the problem. Each move results in the algorithm. AlphaTensor learns what is the best step to make when multiplying matrices by using machine learning. \n",
    "\n",
    "In a quote from DeepMind's website, they said “AlphaTensor discovered algorithms that are more efficient than state-of-the-art for many matrix sizes. Our AI-designed algorithms outperform human-designed ones, which is a major step forward in the field of algorithmic discovery”. \n",
    "\n",
    "A notable acomplishment the AI has made is that it figured out how to multiply two 4 x 4 matrices with 47 multiplications rather than 64 by multiplying each row by each column seen in the matrix multiplication algorithm. Even futher, it takes two less steps tham Strassen's algorithm (49 steps) to complete which is why it is possibly the biggest breakthrough in around fifty years. "
   ]
  },
  {
   "cell_type": "markdown",
   "id": "e0e6f10f",
   "metadata": {},
   "source": [
    "<font color=blue><h3>A deeper look at Strassen's algorithm</h3>"
   ]
  },
  {
   "cell_type": "markdown",
   "id": "16562cfb",
   "metadata": {},
   "source": [
    "Strassen's algorithm is seen as not optimal for practical applications for reasons such as for sparse matricies, better methods are available or submatricies in recursion take more space. Strassen's algorithm can be broken down into four steps with a python implementation of the algorithm. \n",
    "<ol>\n",
    "    <li>First you must divide matrix A and Matrix B into four sub-matricies of size N/2 x N/2.</li>\n",
    "    <li>Then multiply the seven matrices recursively.</li>\n",
    "    <li>Compute submatricies of C.</li>\n",
    "    <li>Finally, combine the submatricies into matrix C.</li>\n",
    "</ol>"
   ]
  },
  {
   "cell_type": "code",
   "execution_count": 2,
   "id": "39f49803",
   "metadata": {},
   "outputs": [
    {
     "name": "stdout",
     "output_type": "stream",
     "text": [
      "Matrix multiplication result: \n",
      "[[-1  0  0]\n",
      " [ 0 -1  0]\n",
      " [ 0  0 -1]]\n"
     ]
    }
   ],
   "source": [
    "import numpy as np\n",
    "\n",
    "\n",
    "def strassen_algorithm(x, y):\n",
    "    if x.size == 1 or y.size == 1:\n",
    "        return x * y\n",
    "\n",
    "    n = x.shape[0]\n",
    "\n",
    "    if n % 2 == 1:\n",
    "        x = np.pad(x, (0, 1), mode='constant')\n",
    "        y = np.pad(y, (0, 1), mode='constant')\n",
    "\n",
    "    m = int(np.ceil(n / 2))\n",
    "    a = x[: m, : m]\n",
    "    b = x[: m, m:]\n",
    "    c = x[m:, : m]\n",
    "    d = x[m:, m:]\n",
    "    e = y[: m, : m]\n",
    "    f = y[: m, m:]\n",
    "    g = y[m:, : m]\n",
    "    h = y[m:, m:]\n",
    "    p1 = strassen_algorithm(a, f - h)\n",
    "    p2 = strassen_algorithm(a + b, h)\n",
    "    p3 = strassen_algorithm(c + d, e)\n",
    "    p4 = strassen_algorithm(d, g - e)\n",
    "    p5 = strassen_algorithm(a + d, e + h)\n",
    "    p6 = strassen_algorithm(b - d, g + h)\n",
    "    p7 = strassen_algorithm(a - c, e + f)\n",
    "    result = np.zeros((2 * m, 2 * m), dtype=np.int32)\n",
    "    result[: m, : m] = p5 + p4 - p2 + p6\n",
    "    result[: m, m:] = p1 + p2\n",
    "    result[m:, : m] = p3 + p4\n",
    "    result[m:, m:] = p1 + p5 - p3 - p7\n",
    "\n",
    "    return result[: n, : n]\n",
    "\n",
    "if __name__ == \"__main__\":\n",
    "\n",
    "    x = np.array([[1, 0, 0], [0, 1, 0], [0, 0, 1]])\n",
    "    y = np.array([[-1, 0, 0], [0, -1, 0], [0, 0, -1]])\n",
    "    print('Matrix multiplication result: ')\n",
    "    print(strassen_algorithm(x, y))"
   ]
  },
  {
   "cell_type": "markdown",
   "id": "0efbbabe",
   "metadata": {},
   "source": [
    "<b>And here is the look at the time complexity for Strassen's algorithm</b>\n",
    "<ul>\n",
    "    <li>Worst case time complexity: Θ(n^2.8074)</li>\n",
    "    <li>Best case time complexity: Θ(1)</li>\n",
    "    <li>Space complexity: Θ(logn)</li>\n",
    "</ul>"
   ]
  },
  {
   "cell_type": "markdown",
   "id": "ea1a7a16",
   "metadata": {},
   "source": [
    "<font color=blue><h3>A deeper look at Matrix Multiplication Algorithm</h3>\n",
    "\n",
    "There isn't much to discuss about the Matrix Multiplication Algorithm as its pretty much the algorithm taught to students in maths class but there is a way to implement in Python as seen below, although a condition does have to be met, and this is if two matricies named A and B, and their dimensions are (M x N) and (P x Q) respectively, then the result of matrix C is (M x Q). Interestingly enough, in Python there are two ways to multiply two matricies. The first is using nested loops and other is using nested lists. I have included examples for both down below. Also felt it was worth mentioning that I have kept the valued for all of the 3x3 matricies to more so highlight the functionality rather than the results.\n",
    "\n",
    "One thing I do want to mention about this algorithm. In the paragraph above, it was mentioned that it is considered a galactic algorithm. What this means is that the algorithm does outperform any other algorithm for problems that are considered large, but the problem is considered so large, it's never actually used for any data sets."
   ]
  },
  {
   "cell_type": "markdown",
   "id": "531f22e3",
   "metadata": {},
   "source": [
    "<b>Matrix Multiplication Algorithm in Python using nested loop's</b>"
   ]
  },
  {
   "cell_type": "code",
   "execution_count": 3,
   "id": "a0a9d83b",
   "metadata": {},
   "outputs": [
    {
     "name": "stdout",
     "output_type": "stream",
     "text": [
      "[126, 176, 235]\n",
      "[51, 50, 90]\n",
      "[151, 198, 250]\n"
     ]
    }
   ],
   "source": [
    "# Program to multiply two matrices using nested loops\n",
    "\n",
    "# 3x3 matrix\n",
    "X = [[4,7,16],\n",
    "    [7,2,1],\n",
    "    [11 ,10,9]]\n",
    "# 3x3 matrix\n",
    "Y = [[5,3,10],\n",
    "    [6,12,5],\n",
    "    [4,5,10]]\n",
    "# result is 3x3\n",
    "result = [[0,0,0],\n",
    "         [0,0,0],\n",
    "         [0,0,0]]\n",
    "\n",
    "# iterate through rows of X\n",
    "for i in range(len(X)):\n",
    "   # iterate through columns of Y\n",
    "   for j in range(len(Y[0])):\n",
    "       # iterate through rows of Y\n",
    "       for k in range(len(Y)):\n",
    "           result[i][j] += X[i][k] * Y[k][j]\n",
    "\n",
    "for r in result:\n",
    "   print(r)"
   ]
  },
  {
   "cell_type": "code",
   "execution_count": 4,
   "id": "08211f3c",
   "metadata": {},
   "outputs": [
    {
     "name": "stdout",
     "output_type": "stream",
     "text": [
      "[126, 176, 235]\n",
      "[51, 50, 90]\n",
      "[151, 198, 250]\n"
     ]
    }
   ],
   "source": [
    "# Program to multiply two matrices using list comprehension\n",
    "\n",
    "# 3x3 matrix\n",
    "X = [[4,7,16],\n",
    "    [7,2,1],\n",
    "    [11 ,10,9]]\n",
    "\n",
    "# 3x3 matrix\n",
    "Y = [[5,3,10],\n",
    "    [6,12,5],\n",
    "    [4,5,10]]\n",
    "\n",
    "# result is 3x3\n",
    "result = [[sum(a*b for a,b in zip(X_row,Y_col)) for Y_col in zip(*Y)] for X_row in X]\n",
    "\n",
    "for r in result:\n",
    "   print(r)"
   ]
  },
  {
   "cell_type": "code",
   "execution_count": null,
   "id": "e69361e6",
   "metadata": {},
   "outputs": [],
   "source": []
  }
 ],
 "metadata": {
  "kernelspec": {
   "display_name": "Python 3 (ipykernel)",
   "language": "python",
   "name": "python3"
  },
  "language_info": {
   "codemirror_mode": {
    "name": "ipython",
    "version": 3
   },
   "file_extension": ".py",
   "mimetype": "text/x-python",
   "name": "python",
   "nbconvert_exporter": "python",
   "pygments_lexer": "ipython3",
   "version": "3.9.15"
  }
 },
 "nbformat": 4,
 "nbformat_minor": 5
}
