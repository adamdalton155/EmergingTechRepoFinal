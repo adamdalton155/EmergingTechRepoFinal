{
 "cells": [
  {
   "cell_type": "markdown",
   "id": "ac4b2eaf",
   "metadata": {},
   "source": [
    "<font color=blue><h1>HTTP</h1>\n",
    "<hr>"
   ]
  },
  {
   "cell_type": "markdown",
   "id": "feb9c7ae",
   "metadata": {},
   "source": [
    "<font color=blue><h3>An overview of HTTP</h3>"
   ]
  },
  {
   "cell_type": "markdown",
   "id": "6c945248",
   "metadata": {},
   "source": [
    "Designed in the early 1990's, the purpose of HTTP (HyperText Transfer Protocol) is to fetch resources e.g. a HTML document. HTTP is the basis of the World Wide Web and is a client-server protocol meaning that a request is made by the recipient and the document returned by the server which constructs the webpage by piecing together the different elements that make up the webpage (e.g. text, images, effects, scripts etc). The messages sent by the client and server are known as 'Requests' and 'Responses' respectively. Both a HTTP Request and Response have their own stucture which allows them perform the task they need to fulfill. First we will look at the structure of the HTTP Request as it comes before the Response.\n",
    "<br>"
   ]
  }
 ],
 "metadata": {
  "kernelspec": {
   "display_name": "Python 3 (ipykernel)",
   "language": "python",
   "name": "python3"
  },
  "language_info": {
   "codemirror_mode": {
    "name": "ipython",
    "version": 3
   },
   "file_extension": ".py",
   "mimetype": "text/x-python",
   "name": "python",
   "nbconvert_exporter": "python",
   "pygments_lexer": "ipython3",
   "version": "3.9.15"
  }
 },
 "nbformat": 4,
 "nbformat_minor": 5
}
