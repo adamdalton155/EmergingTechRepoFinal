{
 "cells": [
  {
   "cell_type": "markdown",
   "id": "ac4b2eaf",
   "metadata": {},
   "source": [
    "<font color=blue><h1>HTTP</h1>\n",
    "<hr>"
   ]
  },
  {
   "cell_type": "markdown",
   "id": "feb9c7ae",
   "metadata": {},
   "source": [
    "<font color=blue><h3>An overview of HTTP</h3>"
   ]
  },
  {
   "cell_type": "markdown",
   "id": "6c945248",
   "metadata": {},
   "source": [
    "Designed in the early 1990's, the purpose of HTTP (HyperText Transfer Protocol) is to fetch resources e.g. a HTML document. HTTP is the basis of the World Wide Web and is a client-server protocol meaning that a request is made by the recipient and the document returned by the server which constructs the webpage by piecing together the different elements that make up the webpage (e.g. text, images, effects, scripts etc). The messages sent by the client and server are known as 'Requests' and 'Responses' respectively. Both a HTTP Request and Response have their own stucture which allows them perform the task they need to fulfill. First we will look at the structure of the HTTP Request as it comes before the Response.\n",
    "<br>\n",
    "\n",
    "<font color=blue><h3>Structure of a HTTP Request</h3>\n",
    "\n",
    "For each request that is made, a series of encoded data is carried in five seperate parts which makes up the Request and what it all means.\n",
    "<ol>\n",
    "    <li>HTTP Version</li> \n",
    "        <ul>\n",
    "            <li>There are two versions, HTTP/1.1 and HTTP/2.0, and the main difference between the two is that 1.1 loads resources one after another where as 2.0 uses a single TCP connection to send multiple streams of data at once, avoiding any blocks.</li>\n",
    "        </ul>\n",
    "    <li>URL</li>\n",
    "      <ul>\n",
    "           <li>A URL or Uniform Resource Locator, is the long string of text usually found at the top of a web browser. It's main purpose is to just be a reference to a web resource so that a HTTP Request can make the request for that specific data.</li>\n",
    "        </ul>\n",
    "    <li>HTTP Method</li>\n",
    "        <ul>\n",
    "           <li>A HTTP method just defines what action a HTTP Request is trying to make. Nearly all of the methods used to were introduced with HTTP1/1, there are eight in total but some are used more than others. For example, the GET Method just retrives a resource, POST sends data to the server, DELETE removes data and PUT updates data.</li>\n",
    "        </ul>\n",
    "    <li>HTTP Request Headers</li>\n",
    "        <ul>\n",
    "           <li>Request Headers allow the client and server to pass more information with each Request/Response. Headers include case sensitive names that are followed by a colon. Some examples of Headers inclde 'Connection', 'Keep-Alive' and 'Authentication'.</li>\n",
    "        </ul>\n",
    "    <li>Optional HTTP Body</li>\n",
    "    <ul>\n",
    "           <li>This part just contains any data associated with the request.</li>\n",
    "        </ul>\n",
    "</ol>"
   ]
  },
  {
   "cell_type": "markdown",
   "id": "59d8dd3d",
   "metadata": {},
   "source": []
  }
 ],
 "metadata": {
  "kernelspec": {
   "display_name": "Python 3 (ipykernel)",
   "language": "python",
   "name": "python3"
  },
  "language_info": {
   "codemirror_mode": {
    "name": "ipython",
    "version": 3
   },
   "file_extension": ".py",
   "mimetype": "text/x-python",
   "name": "python",
   "nbconvert_exporter": "python",
   "pygments_lexer": "ipython3",
   "version": "3.9.15"
  }
 },
 "nbformat": 4,
 "nbformat_minor": 5
}
