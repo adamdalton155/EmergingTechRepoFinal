{
 "cells": [
  {
   "cell_type": "markdown",
   "id": "c50dfb9e",
   "metadata": {},
   "source": [
    "<font color=blue><h1>QisKit and Quantum Computing</h1>\n",
    "<hr>"
   ]
  },
  {
   "cell_type": "markdown",
   "id": "d88681e4",
   "metadata": {},
   "source": [
    "QisKit, described by the IBM, the makers, is an open source SDK for working with quantim computers at the level of pulses, circuts and application modules. There are two ways you can get started with QisKit. The first being locally and the other is hosting it Jupyter Notebooks. It is worth mentioning that IBM says running QisKit locally is more secure and private. Running QisKit locally requires Python 3.7 (released June 27th 2018) or higher. From the Terminal or Command Prompt, just run the command 'pip install qiskit' and all the requirments will be installed.\n",
    "\n",
    "QisKit includes a vast set of quantum gates and pre-built circuts so users of any level can use QisKit in their own research and development of their applications. Users can run and schdule jobs on quantum processors and employ QisKit runtime to orchestrate programs on cloud-based Central Processing Units(CPUs), Graphic Processing Units (GPUs) and Quantum Processing Units (QPUs). By IBM devloping QisKit and these features, IBM/QisKit have managed to unify three different levels of users\n",
    "<ol>\n",
    "    <li>High level experts in their field such as chemistry or finance</li>\n",
    "    <li>Devlopers with limited knowledge of quantum circuts who would like to see the power of Quantum Computing as opposed to classical computers</li>\n",
    "    <li>Experts in the field of Quantum Mechanics</li>\n",
    "</ol>\n",
    "\n",
    "What makes QisKit such a ground breaking piece of software is its ability to provide anyone outside of IBM's Q lab the chance to program a Quantum Computer. It can be used as pathway for people to learn about Quantum Computing/Mechanics. On IBM's website they say \"we hope to also foster a community that can discover new methods and breakthrough applications\". The issue halting a true breakthrough for Quantum Computing is one of a hardware issue. The hardware and rescources that are available in 2022 just simply cannot offer the computational power to compute what Quantum Computing can offer as of now. Examples of this is solving Integer Factorization in polynomial time. Integer Factorization simply put is the ability to find the least common multiples or LCM for short. As of now, Integer Factorization is only solvable in exponential time"
   ]
  },
  {
   "cell_type": "markdown",
   "id": "bc087ba7",
   "metadata": {},
   "source": []
  }
 ],
 "metadata": {
  "kernelspec": {
   "display_name": "Python 3 (ipykernel)",
   "language": "python",
   "name": "python3"
  },
  "language_info": {
   "codemirror_mode": {
    "name": "ipython",
    "version": 3
   },
   "file_extension": ".py",
   "mimetype": "text/x-python",
   "name": "python",
   "nbconvert_exporter": "python",
   "pygments_lexer": "ipython3",
   "version": "3.9.15"
  }
 },
 "nbformat": 4,
 "nbformat_minor": 5
}
